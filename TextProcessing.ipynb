{
  "nbformat": 4,
  "nbformat_minor": 0,
  "metadata": {
    "colab": {
      "provenance": []
    },
    "kernelspec": {
      "name": "python3",
      "display_name": "Python 3"
    },
    "language_info": {
      "name": "python"
    }
  },
  "cells": [
    {
      "cell_type": "code",
      "source": [
        "import re\n",
        "\n",
        "# Original data\n",
        "data = (\"555-1239Dr. Bernard Lander(636) 555-0113Hollingdorp, Donnatella555-6542\"\n",
        "        \"Fitzgerald, F. Scott555 8904Rev. Martin Luther King636-555-3226Snodgrass, \"\n",
        "        \"Theodore5553642Carlamina Scarfoni\")"
      ],
      "metadata": {
        "id": "nj5V9-W1i_xn"
      },
      "execution_count": null,
      "outputs": []
    },
    {
      "cell_type": "code",
      "source": [
        "# 1. Extract the numbers\n",
        "numbers = re.findall(r'\\(?\\d{3}\\)?[- ]?\\d{3}[- ]?\\d{4}|\\d{3}[- ]?\\d{4}', data)\n",
        "print(\"1. Phone Numbers:\")\n",
        "for number in numbers:\n",
        "    print(f\"  {number}\")\n",
        "print()"
      ],
      "metadata": {
        "colab": {
          "base_uri": "https://localhost:8080/"
        },
        "collapsed": true,
        "id": "0_0jj8PnjL8d",
        "outputId": "f45dd40f-fd09-44a2-caac-9931c6c4baf5"
      },
      "execution_count": null,
      "outputs": [
        {
          "output_type": "stream",
          "name": "stdout",
          "text": [
            "1. Phone Numbers:\n",
            "  555-1239\n",
            "  (636) 555-0113\n",
            "  555-6542\n",
            "  555 8904\n",
            "  636-555-3226\n",
            "  5553642\n",
            "\n"
          ]
        }
      ]
    },
    {
      "cell_type": "code",
      "source": [
        "# 2. Extract the names\n",
        "name_parts = re.split(r'\\(?\\d{3}\\)?[- ]?\\d{3}[- ]?\\d{4}|\\d{3}[- ]?\\d{4}', data)\n",
        "names = [name.strip() for name in name_parts if name.strip()]\n",
        "print(\"2. Names:\")\n",
        "for name in names:\n",
        "    print(f\"  {name}\")\n",
        "print()"
      ],
      "metadata": {
        "colab": {
          "base_uri": "https://localhost:8080/"
        },
        "collapsed": true,
        "id": "HVqFFS8wjUec",
        "outputId": "3fa2b208-1f1a-4b41-f05d-f1b582221236"
      },
      "execution_count": null,
      "outputs": [
        {
          "output_type": "stream",
          "name": "stdout",
          "text": [
            "2. Names:\n",
            "  Dr. Bernard Lander\n",
            "  Hollingdorp, Donnatella\n",
            "  Fitzgerald, F. Scott\n",
            "  Rev. Martin Luther King\n",
            "  Snodgrass, Theodore\n",
            "  Carlamina Scarfoni\n",
            "\n"
          ]
        }
      ]
    },
    {
      "cell_type": "code",
      "source": [
        "# 3. Rearrange the vector so that all elements conform to the standard “firstname lastname”, preserving any titles (e.g., “Rev.”, “Dr.”, etc) or middle/second names.\n",
        "def rearrange_name(name):\n",
        "    if ',' in name:\n",
        "        last, first = name.split(',', 1)\n",
        "        return f\"{first.strip()} {last.strip()}\"\n",
        "    return name\n",
        "\n",
        "standard = [rearrange_name(name) for name in names]\n",
        "print(\"3. Standard Names:\")\n",
        "for name in standard:\n",
        "    print(f\"  {name}\")\n",
        "print()"
      ],
      "metadata": {
        "colab": {
          "base_uri": "https://localhost:8080/"
        },
        "collapsed": true,
        "id": "rFgC5w9yjigG",
        "outputId": "11b1e44d-0452-46d4-cb34-c2893017a598"
      },
      "execution_count": null,
      "outputs": [
        {
          "output_type": "stream",
          "name": "stdout",
          "text": [
            "3. Standard Names:\n",
            "  Dr. Bernard Lander\n",
            "  Donnatella Hollingdorp\n",
            "  F. Scott Fitzgerald\n",
            "  Rev. Martin Luther King\n",
            "  Theodore Snodgrass\n",
            "  Carlamina Scarfoni\n",
            "\n"
          ]
        }
      ]
    },
    {
      "cell_type": "code",
      "source": [
        "# 4. Construct a logical vector indicating whether a character has a title (i.e., Rev. and Dr.)\n",
        "has_title = [name.startswith(('Dr.', 'Rev.')) for name in standard]\n",
        "print(\"4. Has Title:\")\n",
        "for name, title_flag in zip(standard, has_title):\n",
        "    print(f\"  {name}: {title_flag}\")\n",
        "print()"
      ],
      "metadata": {
        "colab": {
          "base_uri": "https://localhost:8080/"
        },
        "collapsed": true,
        "id": "pu3Y2hBhjjtD",
        "outputId": "aec17943-a63e-4e16-b6a3-8e48aee2d7ce"
      },
      "execution_count": null,
      "outputs": [
        {
          "output_type": "stream",
          "name": "stdout",
          "text": [
            "4. Has Title:\n",
            "  Dr. Bernard Lander: True\n",
            "  Donnatella Hollingdorp: False\n",
            "  F. Scott Fitzgerald: False\n",
            "  Rev. Martin Luther King: True\n",
            "  Theodore Snodgrass: False\n",
            "  Carlamina Scarfoni: False\n",
            "\n"
          ]
        }
      ]
    },
    {
      "cell_type": "code",
      "source": [
        "# 5. Construct a logical vector indicating whether a character has a middle/second name.\n",
        "def has_middle(name):\n",
        "    parts = name.split()\n",
        "    if parts[0] in ['Dr.', 'Rev.']:\n",
        "        return len(parts) > 3\n",
        "    return len(parts) > 2\n",
        "\n",
        "has_middle_name = [has_middle(name) for name in standard]\n",
        "print(\"5. Has Middle Name:\")\n",
        "for name, mid_flag in zip(standard, has_middle_name):\n",
        "    print(f\"  {name}: {mid_flag}\")\n",
        "print()"
      ],
      "metadata": {
        "colab": {
          "base_uri": "https://localhost:8080/"
        },
        "collapsed": true,
        "id": "_fp_ER4HjmTP",
        "outputId": "b503f6ce-d8cc-4e30-d4d3-a32c75c0453b"
      },
      "execution_count": null,
      "outputs": [
        {
          "output_type": "stream",
          "name": "stdout",
          "text": [
            "5. Has Middle Name:\n",
            "  Dr. Bernard Lander: False\n",
            "  Donnatella Hollingdorp: False\n",
            "  F. Scott Fitzgerald: True\n",
            "  Rev. Martin Luther King: True\n",
            "  Theodore Snodgrass: False\n",
            "  Carlamina Scarfoni: False\n",
            "\n"
          ]
        }
      ]
    },
    {
      "cell_type": "code",
      "source": [
        "# 6. Consider the HTML string <title>+++BREAKING NEWS+++<title>. We would like to extract the first HTML tag (i.e., “<title>”). To do so we write the regular expression “<.+>”. Explain why this fails and correct the expression.\n",
        "html = \"<title>+++BREAKING NEWS+++<title>\"\n",
        "print(\"6. HTML Tag Extraction:\")\n",
        "fail_html_match = re.findall(r\"<.+>\", html)\n",
        "print(f\"  Fail regex result: {fail_html_match}\")\n",
        "correct_html_match = re.findall(r\"<[^>]+>\", html)\n",
        "print(f\"  Correct regex result: {correct_html_match}\")\n",
        "print()"
      ],
      "metadata": {
        "colab": {
          "base_uri": "https://localhost:8080/"
        },
        "collapsed": true,
        "id": "hg_B_KSljola",
        "outputId": "ad90fa52-c4be-4181-cda9-114dd9222b81"
      },
      "execution_count": null,
      "outputs": [
        {
          "output_type": "stream",
          "name": "stdout",
          "text": [
            "6. HTML Tag Extraction:\n",
            "  Fail regex result: ['<title>+++BREAKING NEWS+++<title>']\n",
            "  Correct regex result: ['<title>', '<title>']\n",
            "\n"
          ]
        }
      ]
    },
    {
      "cell_type": "markdown",
      "source": [
        "  The given regular expression fails because it looks for a regular expression from the first < tag until the closing > tag, which grabs everything in between.\n",
        "\n",
        "  Instead we just want the title tag itself, the corrected regex finds the first opening < tag, ignores the characters that are not >, and then finds a >."
      ],
      "metadata": {
        "id": "pcgSQPxjlbXo"
      }
    },
    {
      "cell_type": "code",
      "source": [
        "# 7. Consider the string “(5-3)^2=5^2-2*5*3+3^2”. We would like to extract the equation in its entirety from the string. To do so we write the regular expression “[^0-9=+*()]+”. Explain why this fails and correct the expression.\n",
        "expr = \"(5-3)^2=5^2-2*5*3+3^2\"\n",
        "print(\"7. Equation Extraction:\")\n",
        "fail_expr = re.findall(r\"[^\\d=+*()^]+\", expr)\n",
        "print(f\"  Fail regex result: {fail_expr}\")\n",
        "correct_expr = re.findall(r\"[-+*/^=()\\d]+\", expr)\n",
        "print(f\"  Correct regex result: {correct_expr}\")\n"
      ],
      "metadata": {
        "colab": {
          "base_uri": "https://localhost:8080/"
        },
        "collapsed": true,
        "id": "H0WEOTInjq1x",
        "outputId": "7c45d2ba-c4f5-4dcb-aa57-4673c73c77c8"
      },
      "execution_count": null,
      "outputs": [
        {
          "output_type": "stream",
          "name": "stdout",
          "text": [
            "7. Equation Extraction:\n",
            "  Fail regex result: ['-', '-']\n",
            "  Correct regex result: ['(5-3)^2=5^2-2*5*3+3^2']\n"
          ]
        }
      ]
    },
    {
      "cell_type": "markdown",
      "source": [
        "The regex expression that fails doesn't correctly get the numbers or math symbols because of the ^ symbol which looks for characters that are not \\d=+*() due to the closing ^.\n",
        "\n",
        "The corrected regex instead includes the math symbols in the search and and the numbers."
      ],
      "metadata": {
        "id": "EsmmFZPusX86"
      }
    }
  ]
}