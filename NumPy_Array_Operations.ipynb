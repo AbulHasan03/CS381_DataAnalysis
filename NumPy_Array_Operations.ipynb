{
  "nbformat": 4,
  "nbformat_minor": 0,
  "metadata": {
    "colab": {
      "provenance": []
    },
    "kernelspec": {
      "name": "python3",
      "display_name": "Python 3"
    },
    "language_info": {
      "name": "python"
    }
  },
  "cells": [
    {
      "cell_type": "markdown",
      "source": [
        "Problem 1:\n",
        "\n",
        "Write a Python/NumPy code block that finds the distinct/unique common items between these two\n",
        "arrays:\n",
        "a = np.array([1, 2, 3, 2, 3, 4, 3, 4, 5, 6])\n",
        "b = np.array([7, 2, 10, 2, 7, 4, 9, 4, 9, 8])\n",
        "Your output should contain only the distinct overlapping values. For example, if a 2 is found in both array a and array b,\n",
        "your output should contain only one 2 even if array a contains more than one 2 within it."
      ],
      "metadata": {
        "id": "18FY__9x7A95"
      }
    },
    {
      "cell_type": "code",
      "execution_count": null,
      "metadata": {
        "colab": {
          "base_uri": "https://localhost:8080/"
        },
        "id": "wJLk5Gn1z9ma",
        "outputId": "fad9d843-b255-463e-d49b-4230ffdfa2ab"
      },
      "outputs": [
        {
          "output_type": "stream",
          "name": "stdout",
          "text": [
            "Common elements: [2 4]\n"
          ]
        }
      ],
      "source": [
        "import numpy as np\n",
        "import pandas as pd\n",
        "\n",
        "a1 = np.array([1, 2, 3, 2, 3, 4, 3, 4, 5, 6])\n",
        "b1 = np.array([7, 2, 10, 2, 7, 4, 9, 4, 9, 8])\n",
        "common = np.intersect1d(a1, b1)\n",
        "print(\"Common elements:\", common)"
      ]
    },
    {
      "cell_type": "markdown",
      "source": [
        "Problem 2:\n",
        "\n",
        "Create the following 5x3 array using knowledge you have of Python’s / NumPy’s sequencing functionality\n",
        "so that you do not need to explicitly key in every integer value.\n",
        "1   6    11\n",
        "2   7    12\n",
        "3   8    13\n",
        "4   9    14\n",
        "5   10  15"
      ],
      "metadata": {
        "id": "3yY1cFGm5v0T"
      }
    },
    {
      "cell_type": "code",
      "source": [
        "arr2 = np.arange(1, 16).reshape(5, 3, order='F')\n",
        "print(\"\\n5x3 array:\\n\", arr2)"
      ],
      "metadata": {
        "colab": {
          "base_uri": "https://localhost:8080/"
        },
        "id": "YIu7KdNA5u-g",
        "outputId": "997b08b0-7180-405f-e7a6-b58e535ba013"
      },
      "execution_count": null,
      "outputs": [
        {
          "output_type": "stream",
          "name": "stdout",
          "text": [
            "\n",
            "5x3 array:\n",
            " [[ 1  6 11]\n",
            " [ 2  7 12]\n",
            " [ 3  8 13]\n",
            " [ 4  9 14]\n",
            " [ 5 10 15]]\n"
          ]
        }
      ]
    },
    {
      "cell_type": "markdown",
      "source": [
        "Problem 3:\n",
        "\n",
        "The process of transforming a multidimensional array into a unidimensional array is referred to as “flattening”. Transform the 5x3 array shown above in Problem 2 into a unidimensional array such that the sequence of values contained within the array is as follows: 1, 2, 3, 4, 5, 6, 7, 8, 9, 10, 11, 12, 13, 14, 15"
      ],
      "metadata": {
        "id": "ZGtWcBxt59Vo"
      }
    },
    {
      "cell_type": "code",
      "source": [
        "flat_arr3 = arr2.flatten(order='F')\n",
        "print(\"\\nFlattened array:\", flat_arr3)"
      ],
      "metadata": {
        "colab": {
          "base_uri": "https://localhost:8080/"
        },
        "id": "fJ3sCQdZ581r",
        "outputId": "f8addcde-ce77-4c5f-e3db-50eb14363d2b"
      },
      "execution_count": null,
      "outputs": [
        {
          "output_type": "stream",
          "name": "stdout",
          "text": [
            "\n",
            "Flattened array: [ 1  2  3  4  5  6  7  8  9 10 11 12 13 14 15]\n"
          ]
        }
      ]
    },
    {
      "cell_type": "markdown",
      "source": [
        "Problem 4:\n",
        "\n",
        "Transform the 2-D array shown in Problem 2 into a 3 dimensional array such that the first column becomes the first dimension of the 3-D array, the second column becomes the second dimension of the 3-D array, and the third column becomes the third dimension of the 3-D array."
      ],
      "metadata": {
        "id": "5PNJllTo6H1i"
      }
    },
    {
      "cell_type": "code",
      "source": [
        "arr4 = np.moveaxis(arr2, 1, 0)\n",
        "print(\"Transformed 3D array:\\n\", arr4)"
      ],
      "metadata": {
        "colab": {
          "base_uri": "https://localhost:8080/"
        },
        "id": "vGcEYsPa6KW-",
        "outputId": "27a04abe-a9d1-4786-a27f-0624cc62c5b7"
      },
      "execution_count": null,
      "outputs": [
        {
          "output_type": "stream",
          "name": "stdout",
          "text": [
            "Transformed 3D array:\n",
            " [[ 1  2  3  4  5]\n",
            " [ 6  7  8  9 10]\n",
            " [11 12 13 14 15]]\n"
          ]
        }
      ]
    },
    {
      "cell_type": "markdown",
      "source": [
        "Problem 5:\n",
        "\n",
        "Transform the 3-D array you created in Problem 4 back to the 2-dimensional format shown in Problem 2."
      ],
      "metadata": {
        "id": "L6ZojUM66ND3"
      }
    },
    {
      "cell_type": "code",
      "source": [
        "arr5 = np.moveaxis(arr4, 0, 1)\n",
        "print(\"\\nBack to 2D:\\n\", arr5)"
      ],
      "metadata": {
        "colab": {
          "base_uri": "https://localhost:8080/"
        },
        "id": "SLDOaSen6QMR",
        "outputId": "97e80222-702d-4334-f773-2db9dc1ba8e6"
      },
      "execution_count": null,
      "outputs": [
        {
          "output_type": "stream",
          "name": "stdout",
          "text": [
            "\n",
            "Back to 2D:\n",
            " [[ 1  6 11]\n",
            " [ 2  7 12]\n",
            " [ 3  8 13]\n",
            " [ 4  9 14]\n",
            " [ 5 10 15]]\n"
          ]
        }
      ]
    },
    {
      "cell_type": "markdown",
      "source": [
        "Problem 6:\n",
        "\n",
        "You are given the following two arrays:\n",
        "a = np.array([12, 5, 7, 15, 3, 1, 8])\n",
        "b = np.array([14, 6, 3, 11, 19, 12, 5])\n",
        "Write a Python/Numpy code block that removes from array a any items that are also present in array b."
      ],
      "metadata": {
        "id": "C_Zd7H-r6Soh"
      }
    },
    {
      "cell_type": "code",
      "source": [
        "a6 = np.array([12, 5, 7, 15, 3, 1, 8])\n",
        "b6 = np.array([14, 6, 3, 11, 19, 12, 5])\n",
        "\n",
        "new_a6 = np.setdiff1d(a6, b6)\n",
        "\n",
        "print(\"a6 - elements also in b6:\", new_a6)"
      ],
      "metadata": {
        "colab": {
          "base_uri": "https://localhost:8080/"
        },
        "id": "G_yxdBKz6rSO",
        "outputId": "45b284fe-73e4-4b98-9542-d1202eb7e6a5"
      },
      "execution_count": null,
      "outputs": [
        {
          "output_type": "stream",
          "name": "stdout",
          "text": [
            "a6 - elements also in b6: [ 1  7  8 15]\n"
          ]
        }
      ]
    },
    {
      "cell_type": "markdown",
      "source": [
        "Problem 7:\n",
        "\n",
        "Answer the following questions about the accompanying data file.\n",
        "\n",
        "What is the maximum yearly NYC consumption of water in millions of gallons per day?\n",
        "How many calendar years are represented within this data set? NumPy's shape command is one way to find\n",
        "out.\n",
        "What is the mean and the standard deviation of the per capita daily water consumption?\n",
        "What is the increase or decrease in population from year to year? Use NumPy's `diff` function to create an array\n",
        "of differences and save that to a variable called \"pop_diff\", then print that variable to the screen."
      ],
      "metadata": {
        "id": "AsD9mlw26nb7"
      }
    },
    {
      "cell_type": "code",
      "source": [
        "df = pd.read_excel('Module6_Data.xlsx', )\n",
        "\n",
        "max_consumption = df[\"NYC Consumption(Million gallons per day)\"].max()\n",
        "print(\"\\nMax yearly water consumption:\", max_consumption)\n",
        "\n",
        "num_years = df.shape[0]\n",
        "print(\"Number of calendar years:\", num_years)\n",
        "\n",
        "mean_per_capita = df[\"Per Capita(Gallons per person per day)\"].mean()\n",
        "std_per_capita = df[\"Per Capita(Gallons per person per day)\"].std()\n",
        "print(\"Mean per capita:\", mean_per_capita)\n",
        "print(\"Standard Deviation per capita:\", std_per_capita)\n",
        "\n",
        "pop_diff = np.diff(df[\"New York City Population\"])\n",
        "print(\"Yearly population differences:\\n\", pop_diff)"
      ],
      "metadata": {
        "colab": {
          "base_uri": "https://localhost:8080/"
        },
        "id": "m4qXC9io6w0Z",
        "outputId": "a1bc5866-4953-4850-86ee-4f26da7c3581"
      },
      "execution_count": null,
      "outputs": [
        {
          "output_type": "stream",
          "name": "stdout",
          "text": [
            "\n",
            "Max yearly water consumption: 1512.0\n",
            "Number of calendar years: 39\n",
            "Mean per capita: 160.30769230769232\n",
            "Standard Deviation per capita: 31.930973122258784\n",
            "Yearly population differences:\n",
            " [-30461.   17602.   19864.   72119.   53290.   39540.   45192.   23230.\n",
            "  11243.   -9544.   -8525.   38851.   54443.   77222.   64292.   62582.\n",
            "  64772.   75631.   84816.   89401.   60618.   16685.5  16685.5  16685.5\n",
            "  16685.5  16685.5  16685.5  16685.5  16685.5  16685.5  16685.5 108965.\n",
            "  77081.   61281.   49530.   44512.   21171.   85025. ]\n"
          ]
        }
      ]
    }
  ]
}