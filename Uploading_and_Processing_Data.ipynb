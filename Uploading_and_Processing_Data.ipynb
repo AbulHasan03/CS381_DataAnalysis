{
  "nbformat": 4,
  "nbformat_minor": 0,
  "metadata": {
    "colab": {
      "provenance": []
    },
    "kernelspec": {
      "name": "python3",
      "display_name": "Python 3"
    },
    "language_info": {
      "name": "python"
    }
  },
  "cells": [
    {
      "cell_type": "markdown",
      "source": [
        "Instructions\n",
        "For the first eight questions, use cars-sample35.txt. The seven distinct values represent attributes of a single type of automobile. Specifically we have the following:\n",
        "- Price\n",
        "- Maintenance cost\n",
        "- Number of doors\n",
        "- Number of passengers\n",
        "- Luggage capacity\n",
        "- Safety rating\n",
        "- Classification of vehicle"
      ],
      "metadata": {
        "id": "O-k45MC6JtDr"
      }
    },
    {
      "cell_type": "markdown",
      "source": [
        "1. Upload the data to github. Upload the data to python using Pandas and give it headers.\n"
      ],
      "metadata": {
        "id": "A70VEGQOR7Mi"
      }
    },
    {
      "cell_type": "code",
      "source": [
        "import pandas as pd\n",
        "df = pd.read_csv('cars-sample35.txt', header=None)"
      ],
      "metadata": {
        "id": "jE1b_O9FSaRI"
      },
      "execution_count": 1,
      "outputs": []
    },
    {
      "cell_type": "markdown",
      "source": [
        "2. Extract these seven attributes from each line of the file and create seven distinct Python list objects comprised solely of the values you extracted for a given attribute. In other words, you should have lists of prices, maintenance costs, number of doors, etc."
      ],
      "metadata": {
        "id": "RtIWxWtSSdJG"
      }
    },
    {
      "cell_type": "code",
      "source": [
        "df.columns = ['price', 'maintenance', 'doors', 'passengers', 'luggage', 'safety', 'classification']\n",
        "price_list = df['price'].tolist()\n",
        "maintenance_list = df['maintenance'].tolist()\n",
        "doors_list = df['doors'].tolist()\n",
        "passengers_list = df['passengers'].tolist()\n",
        "luggage_list = df['luggage'].tolist()\n",
        "safety_list = df['safety'].tolist()\n",
        "class_list = df['classification'].tolist()"
      ],
      "metadata": {
        "id": "RMcVmWxFSgv9"
      },
      "execution_count": 2,
      "outputs": []
    },
    {
      "cell_type": "markdown",
      "source": [
        "3. Find the list index values of each automobile having a “price” rating of \"med\". Create a new list object with your result. HINT: you can accomplish this task by searching the list of price values you created earlier. Be sure to print your results."
      ],
      "metadata": {
        "id": "fbIl6iEWSkst"
      }
    },
    {
      "cell_type": "code",
      "source": [
        "med_price_indices = []\n",
        "for i in range(len(price_list)):\n",
        "    if price_list[i] == 'med':\n",
        "        med_price_indices.append(i)\n",
        "\n",
        "print(\"Medium Price Rating(indices):\", med_price_indices)"
      ],
      "metadata": {
        "colab": {
          "base_uri": "https://localhost:8080/"
        },
        "id": "BgyIlQoPSvdf",
        "outputId": "2ddc460a-0416-44b1-82d7-f7d60c0514d0"
      },
      "execution_count": 3,
      "outputs": [
        {
          "output_type": "stream",
          "name": "stdout",
          "text": [
            "Medium Price Rating(indices): [6, 16, 20, 23, 26, 29]\n"
          ]
        }
      ]
    },
    {
      "cell_type": "markdown",
      "source": [
        "4. Find the \"number of passengers\" value for each auto having a \"price\" value of \"med\". Create a new list to store your findings and be sure to print your results."
      ],
      "metadata": {
        "id": "uSRLKDukSyFy"
      }
    },
    {
      "cell_type": "code",
      "source": [
        "med_price_passengers = []\n",
        "for i in range(len(price_list)):\n",
        "    if price_list[i] == 'med':\n",
        "        med_price_passengers.append(passengers_list[i])\n",
        "\n",
        "print(\"Number of Passengers for medium price rating cars:\", med_price_passengers)"
      ],
      "metadata": {
        "colab": {
          "base_uri": "https://localhost:8080/"
        },
        "id": "Ii0K8Z2_S6tj",
        "outputId": "6d851f4d-a938-44b9-c6d8-6031610be824"
      },
      "execution_count": 4,
      "outputs": [
        {
          "output_type": "stream",
          "name": "stdout",
          "text": [
            "Number of Passengers for medium price rating cars: ['more', '2', '2', '2', '4', '2']\n"
          ]
        }
      ]
    },
    {
      "cell_type": "markdown",
      "source": [
        "5. Find the index value for each automobile having a “price” value of \"high\" and a “maintenance” value that is not \"low\". Create a new list to store your findings and be sure to print your results."
      ],
      "metadata": {
        "id": "h76cM82kS9O_"
      }
    },
    {
      "cell_type": "code",
      "source": [
        "high_price_nonlow_maint_indices = []\n",
        "for i in range(len(price_list)):\n",
        "    if price_list[i] == 'high' and maintenance_list[i] != 'low':\n",
        "        high_price_nonlow_maint_indices.append(i)\n",
        "\n",
        "print(\"High Prices and Maintenance is not low(indices):\", high_price_nonlow_maint_indices)"
      ],
      "metadata": {
        "colab": {
          "base_uri": "https://localhost:8080/"
        },
        "id": "xoXiF63eS_kg",
        "outputId": "a03f83fa-6966-4e8a-bf6f-24fee425bb56"
      },
      "execution_count": 5,
      "outputs": [
        {
          "output_type": "stream",
          "name": "stdout",
          "text": [
            "High Prices and Maintenance is not low(indices): [0, 1, 2, 27, 31]\n"
          ]
        }
      ]
    },
    {
      "cell_type": "markdown",
      "source": [
        "6. Find the list index values of each automobile having a price rating of \"med using a list comprehension instead of a basic for or while loop. The list comprehension should create a new list containing your result. Be sure to print your results to the screen."
      ],
      "metadata": {
        "id": "aTa6AmzxTEIM"
      }
    },
    {
      "cell_type": "code",
      "source": [
        "med_price_indices_lc = [i for i, price in enumerate(price_list) if price == 'med']\n",
        "print(\"Medium priced cars (indices):\", med_price_indices_lc)"
      ],
      "metadata": {
        "colab": {
          "base_uri": "https://localhost:8080/"
        },
        "id": "L2Lw2r26TGYC",
        "outputId": "d0be223b-2bcc-432a-84f4-6c0485db1778"
      },
      "execution_count": 6,
      "outputs": [
        {
          "output_type": "stream",
          "name": "stdout",
          "text": [
            "Medium priced cars (indices): [6, 16, 20, 23, 26, 29]\n"
          ]
        }
      ]
    },
    {
      "cell_type": "markdown",
      "source": [
        "7. Find the \"number of passengers\" value for each auto having a \"price\" value of \"med\" using a list comprehension instead of a basic for or while loop. The list comprehension should create a new list containing your findings. Be sure to print your results to the screen."
      ],
      "metadata": {
        "id": "b-Shc5jTTKaQ"
      }
    },
    {
      "cell_type": "code",
      "source": [
        "med_price_passengers_lc = [passengers_list[i] for i, price in enumerate(price_list) if price == 'med']\n",
        "print(\"Passengers for cars with medium price:\", med_price_passengers_lc)"
      ],
      "metadata": {
        "colab": {
          "base_uri": "https://localhost:8080/"
        },
        "id": "o_8Ug5kGTMZJ",
        "outputId": "13e0eca8-1682-43d6-a7a9-90b7a36ce729"
      },
      "execution_count": 7,
      "outputs": [
        {
          "output_type": "stream",
          "name": "stdout",
          "text": [
            "Passengers for cars with medium price: ['more', '2', '2', '2', '4', '2']\n"
          ]
        }
      ]
    },
    {
      "cell_type": "markdown",
      "source": [
        "8. Find the index value for each automobile having a price value of \"high\" and a maintenance value that is not \"low\" using a list comprehension. The list comprehension should create a new list containing your findings. Be sure to print your results to the screen."
      ],
      "metadata": {
        "id": "Ppwzhmx-TQF6"
      }
    },
    {
      "cell_type": "code",
      "source": [
        "high_price_nonlow_maint_indices_lc = [i for i, (p, m) in enumerate(zip(price_list, maintenance_list)) if p == 'high' and m != 'low']\n",
        "print(\"High price and not low maintenance cars(indices):\", high_price_nonlow_maint_indices_lc)"
      ],
      "metadata": {
        "colab": {
          "base_uri": "https://localhost:8080/"
        },
        "id": "Cjvik64NZiXu",
        "outputId": "cdf28bb9-dabd-4637-b4a3-daf68f56673e"
      },
      "execution_count": 8,
      "outputs": [
        {
          "output_type": "stream",
          "name": "stdout",
          "text": [
            "High price and not low maintenance cars(indices): [0, 1, 2, 27, 31]\n"
          ]
        }
      ]
    },
    {
      "cell_type": "markdown",
      "source": [
        "Nested List Comprehension (no file needed):\n",
        "\n",
        "Consider the following list of lists: nlist = [ [1, 2, 3], [‘A’, ‘B’, ‘C’], [4, 5], [‘D’, ‘E’] ]. Extract each individual element of the component lists contained within nlist and add them to a new list.  Do NOT use a nested for loop, use a list comprehension."
      ],
      "metadata": {
        "id": "sn7RXdUCYhgB"
      }
    },
    {
      "cell_type": "code",
      "source": [
        "nlist = [[1, 2, 3], ['A', 'B', 'C'], [4, 5], ['D', 'E']]\n",
        "flat_list = [item for sublist in nlist for item in sublist]\n",
        "print(\"Flattened list:\", flat_list)"
      ],
      "metadata": {
        "colab": {
          "base_uri": "https://localhost:8080/"
        },
        "id": "YW1U0JFzTSNm",
        "outputId": "62b5b237-b35e-48c3-9dbb-b48f364c73fe"
      },
      "execution_count": 9,
      "outputs": [
        {
          "output_type": "stream",
          "name": "stdout",
          "text": [
            "Flattened list: [1, 2, 3, 'A', 'B', 'C', 4, 5, 'D', 'E']\n"
          ]
        }
      ]
    }
  ]
}